{
 "cells": [
  {
   "cell_type": "markdown",
   "metadata": {},
   "source": [
    "## 29-07-2019\n",
    "- #### Functions\n",
    "- #### Lambda Functions\n",
    "- #### File read and write\n"
   ]
  },
  {
   "cell_type": "code",
   "execution_count": null,
   "metadata": {},
   "outputs": [],
   "source": [
    "def add(a,b,c):\n",
    "    print(a,b,c)\n",
    "    print(a+b+c)\n",
    "print(add(c=10,b=20,a=30))"
   ]
  },
  {
   "cell_type": "markdown",
   "metadata": {},
   "source": [
    "- ### Finding Square and Cube of number "
   ]
  },
  {
   "cell_type": "code",
   "execution_count": null,
   "metadata": {},
   "outputs": [],
   "source": [
    "def cube(a):\n",
    "    def sqr(a):\n",
    "        print(a**2)\n",
    "    print(a**3)\n",
    "cube(3)\n",
    "sqr(3)"
   ]
  },
  {
   "cell_type": "code",
   "execution_count": null,
   "metadata": {},
   "outputs": [],
   "source": [
    "def square(n):\n",
    "    return n*n\n",
    "def cube(n):\n",
    "    return square(n)*n\n",
    "cube(3)\n"
   ]
  },
  {
   "cell_type": "markdown",
   "metadata": {},
   "source": [
    "- ### Recursive Function"
   ]
  },
  {
   "cell_type": "code",
   "execution_count": null,
   "metadata": {},
   "outputs": [],
   "source": [
    "# Without Recursive\n",
    "def factorial(n):\n",
    "    fact = 1\n",
    "    for i in range(1,n+1):\n",
    "        fact *= i\n",
    "        i-=1\n",
    "    return fact\n",
    "factorial(5)"
   ]
  },
  {
   "cell_type": "code",
   "execution_count": null,
   "metadata": {},
   "outputs": [],
   "source": [
    "# With Recursive\n",
    "def Factorial(n):\n",
    "    if n==1:\n",
    "        return 1\n",
    "    else:\n",
    "        return n*Factorial(n-1)\n",
    "Factorial(5)"
   ]
  },
  {
   "cell_type": "code",
   "execution_count": 2,
   "metadata": {},
   "outputs": [
    {
     "name": "stdout",
     "output_type": "stream",
     "text": [
      "Enter any number 121\n",
      "True\n",
      "Enter lower boundary number 11\n",
      "Enter lower boundary number 100\n",
      "9\n"
     ]
    }
   ],
   "source": [
    "# Palindrome\n",
    "def palin(n):\n",
    "    c=0\n",
    "    n1=n\n",
    "    while n!=0:\n",
    "        r = n%10\n",
    "        c = c*10+r\n",
    "        n = n//10\n",
    "    if c == n1:\n",
    "        return True\n",
    "    else:\n",
    "        return False\n",
    "\n",
    "def countPalin(lb,ub):\n",
    "    count = 0\n",
    "    while lb != ub:\n",
    "        if palin(lb)==True:\n",
    "            count+=1\n",
    "        lb=lb+1\n",
    "    return count\n",
    "f=int(input(\"Enter any number \"))\n",
    "print(palin(f))\n",
    "\n",
    "lb = int(input(\"Enter lower boundary number \"))\n",
    "ub = int(input(\"Enter lower boundary number \"))\n",
    "print(countPalin(lb,ub))"
   ]
  },
  {
   "cell_type": "code",
   "execution_count": null,
   "metadata": {},
   "outputs": [],
   "source": []
  },
  {
   "cell_type": "code",
   "execution_count": 3,
   "metadata": {},
   "outputs": [
    {
     "name": "stdout",
     "output_type": "stream",
     "text": [
      "Enter your name Archana\n",
      "Hey Archana Welcome to new world \n"
     ]
    }
   ],
   "source": [
    "def fun(name):\n",
    "    return name\n",
    "def Anotherfun(name):\n",
    "    b = fun(name)\n",
    "    print(\"Hey {0} Welcome to new world \".format(b))\n",
    "    return\n",
    "a = input(\"Enter your name \")\n",
    "fun(a)\n",
    "Anotherfun(a)\n"
   ]
  },
  {
   "cell_type": "code",
   "execution_count": 7,
   "metadata": {},
   "outputs": [
    {
     "name": "stdout",
     "output_type": "stream",
     "text": [
      "Enter any number 5\n",
      "13\n"
     ]
    }
   ],
   "source": [
    "### fibbionacci\n",
    "def fab(n):\n",
    "    a=0\n",
    "    b=1\n",
    "    if n<0:\n",
    "        print(\"Incorrect Input\")\n",
    "    elif n==0:\n",
    "        return 0\n",
    "    elif n==1:\n",
    "        return 1\n",
    "    else:\n",
    "        for i in range(0,n+1):\n",
    "            c = a+b\n",
    "            a = b\n",
    "            b = c\n",
    "        return b\n",
    "f = int(input(\"Enter any number \"))\n",
    "print(fab(f))\n",
    "    "
   ]
  },
  {
   "cell_type": "markdown",
   "metadata": {},
   "source": [
    "### Lambda Function(Anonymous functions)"
   ]
  },
  {
   "cell_type": "code",
   "execution_count": 4,
   "metadata": {},
   "outputs": [
    {
     "data": {
      "text/plain": [
       "3"
      ]
     },
     "execution_count": 4,
     "metadata": {},
     "output_type": "execute_result"
    }
   ],
   "source": [
    "addition = lambda a,b : a+b\n",
    "addition(1,2)"
   ]
  },
  {
   "cell_type": "code",
   "execution_count": 9,
   "metadata": {},
   "outputs": [
    {
     "name": "stdout",
     "output_type": "stream",
     "text": [
      "\n",
      "Here is a list of the Python keywords.  Enter any keyword to get more help.\n",
      "\n",
      "False               class               from                or\n",
      "None                continue            global              pass\n",
      "True                def                 if                  raise\n",
      "and                 del                 import              return\n",
      "as                  elif                in                  try\n",
      "assert              else                is                  while\n",
      "async               except              lambda              with\n",
      "await               finally             nonlocal            yield\n",
      "break               for                 not                 \n",
      "\n",
      "None\n"
     ]
    }
   ],
   "source": [
    "print(help(\"keywords\"))"
   ]
  },
  {
   "cell_type": "markdown",
   "metadata": {},
   "source": [
    "### File Handling"
   ]
  },
  {
   "cell_type": "code",
   "execution_count": 30,
   "metadata": {},
   "outputs": [],
   "source": [
    "# creating and Writing a file \n",
    "f = open(\"basic.txt\",'w')\n",
    "f.write(\"Hi Baby\")\n",
    "f.close()"
   ]
  },
  {
   "cell_type": "code",
   "execution_count": 31,
   "metadata": {},
   "outputs": [
    {
     "name": "stdout",
     "output_type": "stream",
     "text": [
      "Hi Baby\n"
     ]
    }
   ],
   "source": [
    "# Reading a file\n",
    "f = open(\"basic.txt\",'r')\n",
    "data = f.read()\n",
    "print(data)\n",
    "f.close()"
   ]
  },
  {
   "cell_type": "code",
   "execution_count": 32,
   "metadata": {},
   "outputs": [],
   "source": [
    "# Appending text to file\n",
    "f = open(\"basic.txt\",'a')\n",
    "f.write(\"\\nWelcome to New World\")\n",
    "f.close()"
   ]
  },
  {
   "cell_type": "code",
   "execution_count": 33,
   "metadata": {},
   "outputs": [
    {
     "name": "stdout",
     "output_type": "stream",
     "text": [
      "Hi Baby\n",
      "Welcome to New World\n"
     ]
    }
   ],
   "source": [
    "f = open(\"basic.txt\",'r')\n",
    "data = f.read()\n",
    "print(data)\n",
    "f.close()"
   ]
  },
  {
   "cell_type": "code",
   "execution_count": 34,
   "metadata": {},
   "outputs": [
    {
     "name": "stdout",
     "output_type": "stream",
     "text": [
      "Hi Baby\n",
      "Welcome to New World\n",
      "Do what you want...\n"
     ]
    }
   ],
   "source": [
    "f = open(\"basic.txt\",'a')\n",
    "f.write('\\nDo what you want...')\n",
    "f.close()\n",
    "f = open(\"basic.txt\",'r')\n",
    "data = f.read()\n",
    "print(data)\n",
    "f.close()"
   ]
  },
  {
   "cell_type": "code",
   "execution_count": 35,
   "metadata": {},
   "outputs": [],
   "source": [
    "# Renaming file\n",
    "import os \n",
    "os.rename(\"basic.txt\",\"new.txt\")"
   ]
  },
  {
   "cell_type": "code",
   "execution_count": 29,
   "metadata": {},
   "outputs": [],
   "source": [
    "# Removing file\n",
    "os.remove(\"new.txt\")"
   ]
  },
  {
   "cell_type": "markdown",
   "metadata": {},
   "source": [
    "- create a folder \n",
    "- create random number of files inside the folder with different names\n",
    "- insert random text and text should be vary to file\n",
    "- file size should be 512 bytes"
   ]
  },
  {
   "cell_type": "code",
   "execution_count": 52,
   "metadata": {},
   "outputs": [],
   "source": [
    "import os\n",
    "import random\n",
    "os.mkdir(\"color\")\n"
   ]
  },
  {
   "cell_type": "code",
   "execution_count": 53,
   "metadata": {},
   "outputs": [],
   "source": [
    "os.chdir(\"color\")"
   ]
  },
  {
   "cell_type": "code",
   "execution_count": 54,
   "metadata": {},
   "outputs": [
    {
     "data": {
      "text/plain": [
       "'C:\\\\Users\\\\Archana\\\\Desktop\\\\py1\\\\color'"
      ]
     },
     "execution_count": 54,
     "metadata": {},
     "output_type": "execute_result"
    }
   ],
   "source": [
    "os.getcwd()"
   ]
  },
  {
   "cell_type": "code",
   "execution_count": 60,
   "metadata": {},
   "outputs": [],
   "source": [
    "import random\n",
    "n = random.randint(0,10)\n",
    "for i in range(0,n+1):\n",
    "    f =  open('{0}.txt'.format(random.choice(string.ascii_letters)),'a')\n",
    "    a = f.write('{0}'.format(random.choice(string.ascii_letters)for x in range(5)))\n",
    "    f.close()\n",
    "fa =  open('{0}.txt'.format(random.choice(string.ascii_letters)),'r')\n",
    "fa.close()"
   ]
  },
  {
   "cell_type": "code",
   "execution_count": 71,
   "metadata": {},
   "outputs": [
    {
     "name": "stdout",
     "output_type": "stream",
     "text": [
      "Enter any number 6\n"
     ]
    }
   ],
   "source": [
    "import random\n",
    "\n",
    "import string\n",
    "\n",
    "num = int(input(\"Enter any number \"))\n",
    "\n",
    "Number = random.randint(0,num)\n",
    "\n",
    "#chars = ''.join([random.choice('ABCDEFGHIJKLMNOPQRSTUVWXYZ')for i in range(n)])\n",
    "\n",
    "n = 512\n",
    "\n",
    "for i in range(0,Number):\n",
    "\n",
    "    fa = open(\"{0}.txt\".format(random.choice(string.ascii_letters)),\"a\")\n",
    "    \n",
    "    chars = ''.join([random.choice('ABCDEFGHIJKLMNOPQRSTUVWXYZ')for i in range(n)])\n",
    "\n",
    "    fa.write(chars)\n",
    "    \n",
    "    fa.close()"
   ]
  },
  {
   "cell_type": "code",
   "execution_count": null,
   "metadata": {},
   "outputs": [],
   "source": []
  },
  {
   "cell_type": "code",
   "execution_count": null,
   "metadata": {},
   "outputs": [],
   "source": []
  }
 ],
 "metadata": {
  "kernelspec": {
   "display_name": "Python 3",
   "language": "python",
   "name": "python3"
  },
  "language_info": {
   "codemirror_mode": {
    "name": "ipython",
    "version": 3
   },
   "file_extension": ".py",
   "mimetype": "text/x-python",
   "name": "python",
   "nbconvert_exporter": "python",
   "pygments_lexer": "ipython3",
   "version": "3.7.3"
  }
 },
 "nbformat": 4,
 "nbformat_minor": 2
}
